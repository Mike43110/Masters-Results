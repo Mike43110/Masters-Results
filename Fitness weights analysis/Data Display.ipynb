{
 "metadata": {
  "celltoolbar": "Raw Cell Format",
  "language": "Julia",
  "name": "",
  "signature": "sha256:2e02b62bf6d13a53a8d8230cbdbbeb9f1da189477123d021c53c6378254ba723"
 },
 "nbformat": 3,
 "nbformat_minor": 0,
 "worksheets": [
  {
   "cells": [
    {
     "cell_type": "markdown",
     "metadata": {},
     "source": [
      "#Displaying Data\n",
      "The following is setup code for importing the required classes and packages\n"
     ]
    },
    {
     "cell_type": "code",
     "collapsed": false,
     "input": [
      "using DataFrames, HDF5, JLD\n",
      "\n",
      "include(\"EA.jl\")\n",
      "include(\"RobotGene.jl\")\n",
      "include(\"VarLengthIndividual.jl\")\n",
      "include(\"GAPopulation.jl\");"
     ],
     "language": "python",
     "metadata": {},
     "outputs": [],
     "prompt_number": 1
    },
    {
     "cell_type": "markdown",
     "metadata": {},
     "source": [
      "The data frame in which the counts will be stored and displayed is created\n",
      "The data frame contains 15 cells for combinations of cases:\n",
      "+ \u03b1\n",
      "    + 100\n",
      "    + 1000\n",
      "    + 10000\n",
      "    + 100000\n",
      "    + 1000000\n",
      "+ \u03b2\n",
      "    + 100\n",
      "    + 10000\n",
      "    + 1000000\n",
      "    \n",
      "Three variables are to be analysed for each combination. The number of perfectly accurate solutions, the number of solutions that can provide the necessary torque and the mean of each combinations cost."
     ]
    },
    {
     "cell_type": "code",
     "collapsed": false,
     "input": [
      "df = DataFrame()\n",
      "\n",
      "df[:\u03b1] = [100,1000,10000,100000,1000000]\n",
      "\n",
      "df[symbol(\"\u03b2=100 : acc\")] = [0,0,0,0,0]\n",
      "df[symbol(\"\u03b2=100 : torque\")] = [0,0,0,0,0]\n",
      "df[symbol(\"\u03b2=100 : cost\")] = [0.0,0.0,0.0,0.0,0.0]\n",
      "\n",
      "df[symbol(\"\u03b2=10000 : acc\")] = [0,0,0,0,0]\n",
      "df[symbol(\"\u03b2=10000 : torque\")] = [0,0,0,0,0]\n",
      "df[symbol(\"\u03b2=10000 : cost\")] = [0.0,0.0,0.0,0.0,0.0]\n",
      "\n",
      "df[symbol(\"\u03b2=1000000 : acc\")] = [0,0,0,0,0]\n",
      "df[symbol(\"\u03b2=1000000 : torque\")] = [0,0,0,0,0]\n",
      "df[symbol(\"\u03b2=1000000 : cost\")] = [0.0,0.0,0.0,0.0,0.0];"
     ],
     "language": "python",
     "metadata": {},
     "outputs": [],
     "prompt_number": 2
    },
    {
     "cell_type": "code",
     "collapsed": false,
     "input": [
      "file = jldopen(\"allData.jld\",\"r\")\n",
      "allData = Any[]\n",
      "allData = read(file,\"allData\")\n",
      "close(file);"
     ],
     "language": "python",
     "metadata": {},
     "outputs": [],
     "prompt_number": 3
    },
    {
     "cell_type": "markdown",
     "metadata": {},
     "source": [
      "Counting incorrect values was chosen over counting correct values as then when more data is added the count should remain at the same value of 0. These values are displayed per combination.\n",
      "\n",
      "######acc\n",
      "+ Specifies the number of solutions with failing accuracy values\n",
      "\n",
      "######torque\n",
      "+ Specifies the number of solutions with failing torque values\n",
      "\n",
      "######cost\n",
      "+ Specifies the mean cost for the combination"
     ]
    },
    {
     "cell_type": "code",
     "collapsed": false,
     "input": [
      "allCombinations = Dict()\n",
      "dataItems = int(length(allData)/15)\n",
      "b = [100, 10000, 1000000]\n",
      "for (aIndex, A) in enumerate(df[:\u03b1])\n",
      "    for (bIndex, B) in enumerate(b)\n",
      "        get!(allCombinations, (A,B), (aIndex, (bIndex -1)*3 + 2))\n",
      "    end\n",
      "end"
     ],
     "language": "python",
     "metadata": {},
     "outputs": [],
     "prompt_number": 4
    },
    {
     "cell_type": "markdown",
     "metadata": {},
     "source": [
      "Generates a dictionary `combinations` which maps the combinations onto dataframe positions"
     ]
    },
    {
     "cell_type": "code",
     "collapsed": false,
     "input": [
      "for item in allData\n",
      "    comb = (item[1],item[2])\n",
      "    pos = get(allCombinations, comb, (0,0))\n",
      "    indiv = item[3]\n",
      "    acc = indiv.total_acc\n",
      "    torque = indiv.torque_error\n",
      "    cost = 1/indiv.total_cost\n",
      "    df[pos[1],pos[2]] += (acc == 1)? 0:1\n",
      "    df[pos[1],pos[2]+1] += (torque == 1)? 0:1\n",
      "    df[pos[1],pos[2]+2] += cost\n",
      "end\n",
      "for i = 1:5\n",
      "    for j in [4,7,10]\n",
      "        df[i,j] = df[i,j]/dataItems\n",
      "    end\n",
      "end\n",
      "df"
     ],
     "language": "python",
     "metadata": {},
     "outputs": [
      {
       "html": [
        "<table class=\"data-frame\"><tr><th></th><th>\u03b1</th><th>\u03b2=100 : acc</th><th>\u03b2=100 : torque</th><th>\u03b2=100 : cost</th><th>\u03b2=10000 : acc</th><th>\u03b2=10000 : torque</th><th>\u03b2=10000 : cost</th><th>\u03b2=1000000 : acc</th><th>\u03b2=1000000 : torque</th><th>\u03b2=1000000 : cost</th></tr><tr><th>1</th><td>100</td><td>12</td><td>0</td><td>10568.696249999999</td><td>18</td><td>0</td><td>9819.41625</td><td>21</td><td>0</td><td>9753.161250000001</td></tr><tr><th>2</th><td>1000</td><td>18</td><td>0</td><td>10045.8225</td><td>18</td><td>0</td><td>11254.32</td><td>30</td><td>0</td><td>10153.36875</td></tr><tr><th>3</th><td>10000</td><td>15</td><td>6</td><td>12794.53875</td><td>18</td><td>0</td><td>12388.635</td><td>18</td><td>0</td><td>9795.73875</td></tr><tr><th>4</th><td>100000</td><td>24</td><td>15</td><td>10664.56125</td><td>21</td><td>0</td><td>10480.575</td><td>30</td><td>0</td><td>10340.715</td></tr><tr><th>5</th><td>1000000</td><td>21</td><td>42</td><td>11143.41375</td><td>21</td><td>6</td><td>10750.635</td><td>9</td><td>0</td><td>9427.897500000001</td></tr></table>"
       ],
       "metadata": {},
       "output_type": "pyout",
       "prompt_number": 11,
       "text": [
        "5x10 DataFrame\n",
        "| Row | \u03b1       | \u03b2=100 : acc | \u03b2=100 : torque | \u03b2=100 : cost | \u03b2=10000 : acc |\n",
        "|-----|---------|-------------|----------------|--------------|---------------|\n",
        "| 1   | 100     | 12          | 0              | 10568.7      | 18            |\n",
        "| 2   | 1000    | 18          | 0              | 10045.8      | 18            |\n",
        "| 3   | 10000   | 15          | 6              | 12794.5      | 18            |\n",
        "| 4   | 100000  | 24          | 15             | 10664.6      | 21            |\n",
        "| 5   | 1000000 | 21          | 42             | 11143.4      | 21            |\n",
        "\n",
        "| Row | \u03b2=10000 : torque | \u03b2=10000 : cost | \u03b2=1000000 : acc |\n",
        "|-----|------------------|----------------|-----------------|\n",
        "| 1   | 0                | 9819.42        | 21              |\n",
        "| 2   | 0                | 11254.3        | 30              |\n",
        "| 3   | 0                | 12388.6        | 18              |\n",
        "| 4   | 0                | 10480.6        | 30              |\n",
        "| 5   | 6                | 10750.6        | 9               |\n",
        "\n",
        "| Row | \u03b2=1000000 : torque | \u03b2=1000000 : cost |\n",
        "|-----|--------------------|------------------|\n",
        "| 1   | 0                  | 9753.16          |\n",
        "| 2   | 0                  | 10153.4          |\n",
        "| 3   | 0                  | 9795.74          |\n",
        "| 4   | 0                  | 10340.7          |\n",
        "| 5   | 0                  | 9427.9           |"
       ]
      }
     ],
     "prompt_number": 11
    },
    {
     "cell_type": "markdown",
     "metadata": {},
     "source": [
      "Average cost is strangely constant throughout.\n",
      "Certain values definitely cause outright failiure as can be seen on \\beta = 1000000.\n",
      "When balanced by a large \\alpha however it becomes the best performing in terms of all factors."
     ]
    },
    {
     "cell_type": "code",
     "collapsed": false,
     "input": [],
     "language": "python",
     "metadata": {},
     "outputs": []
    }
   ],
   "metadata": {}
  }
 ]
}