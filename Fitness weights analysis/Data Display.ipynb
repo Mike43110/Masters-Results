{
 "metadata": {
  "celltoolbar": "Raw Cell Format",
  "language": "Julia",
  "name": "",
  "signature": "sha256:b81d22da36e6ce8f1fe0d41d20e4014cab46ea5ad1c2512eeda743359e2bd8d6"
 },
 "nbformat": 3,
 "nbformat_minor": 0,
 "worksheets": [
  {
   "cells": [
    {
     "cell_type": "markdown",
     "metadata": {},
     "source": [
      "#Displaying Data\n",
      "The following is setup code for importing the required classes and packages\n"
     ]
    },
    {
     "cell_type": "code",
     "collapsed": false,
     "input": [
      "using DataFrames, HDF5, JLD\n",
      "\n",
      "include(\"EA.jl\")\n",
      "include(\"RobotGene.jl\")\n",
      "include(\"VarLengthIndividual.jl\")\n",
      "include(\"GAPopulation.jl\");"
     ],
     "language": "python",
     "metadata": {},
     "outputs": [],
     "prompt_number": 1
    },
    {
     "cell_type": "markdown",
     "metadata": {},
     "source": [
      "The data frame in which the counts will be stored and displayed is created\n",
      "The data frame contains 15 cells for combinations of cases:\n",
      "+ \u03b1\n",
      "    + 100\n",
      "    + 1000\n",
      "    + 10000\n",
      "    + 100000\n",
      "    + 1000000\n",
      "+ \u03b2\n",
      "    + 100\n",
      "    + 10000\n",
      "    + 1000000\n",
      "    \n",
      "Three variables are to be analysed for each combination. The number of perfectly accurate solutions, the number of solutions that can provide the necessary torque and the mean of each combinations cost."
     ]
    },
    {
     "cell_type": "code",
     "collapsed": false,
     "input": [
      "df = DataFrame()\n",
      "\n",
      "df[:\u03b1] = [100,1000,10000,100000,1000000]\n",
      "\n",
      "df[symbol(\"\u03b2=100 : acc\")] = [0,0,0,0,0]\n",
      "df[symbol(\"\u03b2=100 : torque\")] = [0,0,0,0,0]\n",
      "df[symbol(\"\u03b2=100 : cost\")] = [0.0,0.0,0.0,0.0,0.0]\n",
      "\n",
      "df[symbol(\"\u03b2=10000 : acc\")] = [0,0,0,0,0]\n",
      "df[symbol(\"\u03b2=10000 : torque\")] = [0,0,0,0,0]\n",
      "df[symbol(\"\u03b2=10000 : cost\")] = [0.0,0.0,0.0,0.0,0.0]\n",
      "\n",
      "df[symbol(\"\u03b2=1000000 : acc\")] = [0,0,0,0,0]\n",
      "df[symbol(\"\u03b2=1000000 : torque\")] = [0,0,0,0,0]\n",
      "df[symbol(\"\u03b2=1000000 : cost\")] = [0.0,0.0,0.0,0.0,0.0];"
     ],
     "language": "python",
     "metadata": {},
     "outputs": [],
     "prompt_number": 2
    },
    {
     "cell_type": "code",
     "collapsed": false,
     "input": [
      "file = jldopen(\"allData.jld\",\"r\")\n",
      "allData = Any[]\n",
      "allData = read(file,\"allData\")\n",
      "close(file);"
     ],
     "language": "python",
     "metadata": {},
     "outputs": [],
     "prompt_number": 3
    },
    {
     "cell_type": "markdown",
     "metadata": {},
     "source": [
      "Counting incorrect values was chosen over counting correct values as then when more data is added the count should remain at the same value of 0. These values are displayed per combination.\n",
      "\n",
      "######acc\n",
      "+ Specifies the number of solutions with failing accuracy values\n",
      "\n",
      "######torque\n",
      "+ Specifies the number of solutions with failing torque values\n",
      "\n",
      "######cost\n",
      "+ Specifies the mean cost for the combination"
     ]
    },
    {
     "cell_type": "code",
     "collapsed": false,
     "input": [
      "allCombinations = Dict()\n",
      "dataItems = int(length(allData)/15)\n",
      "b = [100, 10000, 1000000]\n",
      "for (aIndex, A) in enumerate(df[:\u03b1])\n",
      "    for (bIndex, B) in enumerate(b)\n",
      "        get!(allCombinations, (A,B), (aIndex, (bIndex -1)*3 + 2))\n",
      "    end\n",
      "end"
     ],
     "language": "python",
     "metadata": {},
     "outputs": [],
     "prompt_number": 4
    },
    {
     "cell_type": "markdown",
     "metadata": {},
     "source": [
      "Generates a dictionary `combinations` which maps the combinations onto dataframe positions"
     ]
    },
    {
     "cell_type": "code",
     "collapsed": false,
     "input": [
      "df[1:5,2:10] = 0\n",
      "for item in allData\n",
      "    comb = (item[1],item[2])\n",
      "    pos = get(allCombinations, comb, (0,0))\n",
      "    indiv = item[3]\n",
      "    acc = indiv.total_acc\n",
      "    torque = indiv.torque_error\n",
      "    cost = 1/indiv.total_cost\n",
      "    df[pos[1],pos[2]] += (acc == 1)? 0:1\n",
      "    df[pos[1],pos[2]+1] += (torque == 1)? 0:1\n",
      "    df[pos[1],pos[2]+2] += cost\n",
      "end\n",
      "for i = 1:5\n",
      "    for j in [4,7,10]\n",
      "        df[i,j] = df[i,j]/dataItems\n",
      "    end\n",
      "end\n",
      "df"
     ],
     "language": "python",
     "metadata": {},
     "outputs": [
      {
       "html": [
        "<table class=\"data-frame\"><tr><th></th><th>\u03b1</th><th>\u03b2=100 : acc</th><th>\u03b2=100 : torque</th><th>\u03b2=100 : cost</th><th>\u03b2=10000 : acc</th><th>\u03b2=10000 : torque</th><th>\u03b2=10000 : cost</th><th>\u03b2=1000000 : acc</th><th>\u03b2=1000000 : torque</th><th>\u03b2=1000000 : cost</th></tr><tr><th>1</th><td>100</td><td>4</td><td>0</td><td>10065.425</td><td>6</td><td>0</td><td>9351.825</td><td>7</td><td>0</td><td>9288.725</td></tr><tr><th>2</th><td>1000</td><td>6</td><td>0</td><td>9567.45</td><td>6</td><td>0</td><td>10718.4</td><td>10</td><td>0</td><td>9669.875</td></tr><tr><th>3</th><td>10000</td><td>5</td><td>2</td><td>12185.275</td><td>6</td><td>0</td><td>11798.7</td><td>6</td><td>0</td><td>9329.275</td></tr><tr><th>4</th><td>100000</td><td>8</td><td>5</td><td>10156.725</td><td>7</td><td>0</td><td>9981.5</td><td>10</td><td>0</td><td>9848.3</td></tr><tr><th>5</th><td>1000000</td><td>7</td><td>14</td><td>10612.775</td><td>7</td><td>2</td><td>10238.7</td><td>3</td><td>0</td><td>8978.95</td></tr></table>"
       ],
       "metadata": {},
       "output_type": "pyout",
       "prompt_number": 5,
       "text": [
        "5x10 DataFrame\n",
        "| Row | \u03b1       | \u03b2=100 : acc | \u03b2=100 : torque | \u03b2=100 : cost | \u03b2=10000 : acc |\n",
        "|-----|---------|-------------|----------------|--------------|---------------|\n",
        "| 1   | 100     | 4           | 0              | 10065.4      | 6             |\n",
        "| 2   | 1000    | 6           | 0              | 9567.45      | 6             |\n",
        "| 3   | 10000   | 5           | 2              | 12185.3      | 6             |\n",
        "| 4   | 100000  | 8           | 5              | 10156.7      | 7             |\n",
        "| 5   | 1000000 | 7           | 14             | 10612.8      | 7             |\n",
        "\n",
        "| Row | \u03b2=10000 : torque | \u03b2=10000 : cost | \u03b2=1000000 : acc |\n",
        "|-----|------------------|----------------|-----------------|\n",
        "| 1   | 0                | 9351.83        | 7               |\n",
        "| 2   | 0                | 10718.4        | 10              |\n",
        "| 3   | 0                | 11798.7        | 6               |\n",
        "| 4   | 0                | 9981.5         | 10              |\n",
        "| 5   | 2                | 10238.7        | 3               |\n",
        "\n",
        "| Row | \u03b2=1000000 : torque | \u03b2=1000000 : cost |\n",
        "|-----|--------------------|------------------|\n",
        "| 1   | 0                  | 9288.73          |\n",
        "| 2   | 0                  | 9669.88          |\n",
        "| 3   | 0                  | 9329.27          |\n",
        "| 4   | 0                  | 9848.3           |\n",
        "| 5   | 0                  | 8978.95          |"
       ]
      }
     ],
     "prompt_number": 5
    },
    {
     "cell_type": "markdown",
     "metadata": {},
     "source": [
      "Average cost is strangely constant throughout.\n",
      "Certain values definitely cause outright failiure as can be seen on \u03b2 = 1000000.\n",
      "When balanced by a large \u03b1 however it becomes the best performing in terms of all factors."
     ]
    },
    {
     "cell_type": "code",
     "collapsed": false,
     "input": [],
     "language": "python",
     "metadata": {},
     "outputs": []
    }
   ],
   "metadata": {}
  }
 ]
}